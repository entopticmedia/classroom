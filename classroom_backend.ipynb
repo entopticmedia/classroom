{
 "cells": [
  {
   "cell_type": "code",
   "execution_count": 11,
   "id": "ffe135cd",
   "metadata": {},
   "outputs": [],
   "source": [
    "import os\n",
    "import json\n",
    "import openai\n",
    "from dotenv import load_dotenv\n",
    "load_dotenv()\n",
    "openai.api_key = os.getenv(\"OPENAI_API_TOKEN\")"
   ]
  },
  {
   "cell_type": "code",
   "execution_count": 42,
   "id": "c426a86b",
   "metadata": {},
   "outputs": [],
   "source": [
    "import replicate\n",
    "text2image = replicate.models.get(\"stability-ai/stable-diffusion\")\n",
    "text2image_version = text2image.versions.get(\"f178fa7a1ae43a9a9af01b833b9d2ecf97b1bcb0acfd2dc5dd04895e042863f1\")\n",
    "\n",
    "image2image = replicate.models.get(\"stability-ai/stable-diffusion-img2img\")\n",
    "image2image_version = image2image.versions.get(\"15a3689ee13b0d2616e98820eca31d4c3abcd36672df6afce5cb6feb1d66087d\")\n",
    "\n",
    "image2text = replicate.models.get(\"pharmapsychotic/clip-interrogator\")\n",
    "image2text_version = image2text.versions.get(\"a4a8bafd6089e1716b06057c42b19378250d008b80fe87caa5cd36d40c1eda90\")"
   ]
  },
  {
   "cell_type": "markdown",
   "id": "64d59f47",
   "metadata": {},
   "source": [
    "### Endpoints: /heartbeat\n",
    "\n",
    "#### Input:\n",
    "None\n",
    "\n",
    "#### Output:\n",
    "{ \\\n",
    "    \"status\": string \\\n",
    "}"
   ]
  },
  {
   "cell_type": "code",
   "execution_count": 13,
   "id": "05a38404",
   "metadata": {},
   "outputs": [
    {
     "name": "stdout",
     "output_type": "stream",
     "text": [
      "{\"status\": \"alive\"}\n"
     ]
    }
   ],
   "source": [
    "# GET /heartbeat\n",
    "print(json.dumps({'status': 'alive'}))"
   ]
  },
  {
   "cell_type": "code",
   "execution_count": 14,
   "id": "87d7ea9b",
   "metadata": {},
   "outputs": [
    {
     "name": "stdout",
     "output_type": "stream",
     "text": [
      "{\"headers\": {\"Content-Type\": \"application/json\"}, \"status\": 200}\n"
     ]
    }
   ],
   "source": [
    "# ResponseInfo GET /heartbeat\n",
    "print(json.dumps({\n",
    "    \"headers\" : {\n",
    "        \"Content-Type\" : \"application/json\"\n",
    "    },\n",
    "    \"status\" : 200\n",
    "}))"
   ]
  },
  {
   "cell_type": "markdown",
   "id": "71dc2090",
   "metadata": {},
   "source": [
    "### Endpoints: /text_to_text\n",
    "\n",
    "#### Input:\n",
    "{ \\\n",
    "    \"prompt\": string, \\\n",
    "    \"max_tokens\": int (default: 100), \\\n",
    "    \"temperature\": float (defaut: 0.0) \\\n",
    "} \n",
    "\n",
    "#### Output:\n",
    "{ \\\n",
    "    \"completion\": string \\\n",
    "}"
   ]
  },
  {
   "cell_type": "code",
   "execution_count": 24,
   "id": "7297733d",
   "metadata": {},
   "outputs": [
    {
     "ename": "NameError",
     "evalue": "name 'REQUEST' is not defined",
     "output_type": "error",
     "traceback": [
      "\u001b[0;31m---------------------------------------------------------------------------\u001b[0m",
      "\u001b[0;31mNameError\u001b[0m                                 Traceback (most recent call last)",
      "Cell \u001b[0;32mIn[24], line 2\u001b[0m\n\u001b[1;32m      1\u001b[0m \u001b[38;5;66;03m# GET /text_completion\u001b[39;00m\n\u001b[0;32m----> 2\u001b[0m req \u001b[38;5;241m=\u001b[39m json\u001b[38;5;241m.\u001b[39mloads(\u001b[43mREQUEST\u001b[49m)\n\u001b[1;32m      3\u001b[0m body \u001b[38;5;241m=\u001b[39m req[\u001b[38;5;124m'\u001b[39m\u001b[38;5;124mbody\u001b[39m\u001b[38;5;124m'\u001b[39m]\n\u001b[1;32m      5\u001b[0m completion_object \u001b[38;5;241m=\u001b[39m openai\u001b[38;5;241m.\u001b[39mCompletion\u001b[38;5;241m.\u001b[39mcreate(\n\u001b[1;32m      6\u001b[0m   model\u001b[38;5;241m=\u001b[39m\u001b[38;5;124m\"\u001b[39m\u001b[38;5;124mtext-davinci-003\u001b[39m\u001b[38;5;124m\"\u001b[39m,\n\u001b[1;32m      7\u001b[0m   prompt\u001b[38;5;241m=\u001b[39mbody[\u001b[38;5;124m'\u001b[39m\u001b[38;5;124mtext\u001b[39m\u001b[38;5;124m'\u001b[39m],\n\u001b[1;32m      8\u001b[0m   max_tokens\u001b[38;5;241m=\u001b[39mbody[\u001b[38;5;124m'\u001b[39m\u001b[38;5;124mmax_tokens\u001b[39m\u001b[38;5;124m'\u001b[39m],\n\u001b[1;32m      9\u001b[0m   temperature\u001b[38;5;241m=\u001b[39mbody[\u001b[38;5;124m'\u001b[39m\u001b[38;5;124mtemperature\u001b[39m\u001b[38;5;124m'\u001b[39m]\n\u001b[1;32m     10\u001b[0m )\n",
      "\u001b[0;31mNameError\u001b[0m: name 'REQUEST' is not defined"
     ]
    }
   ],
   "source": [
    "# GET /text_to_text\n",
    "req = json.loads(REQUEST)\n",
    "body = req['body']\n",
    "\n",
    "completion_object = openai.Completion.create(\n",
    "  model=\"text-davinci-003\",\n",
    "  prompt=body['prompt'],\n",
    "  max_tokens=body['max_tokens'] if 'max_tokens' in body else 100,\n",
    "  temperature=body['temperature'] if 'temperature' in body else 0\n",
    ")\n",
    "\n",
    "print(json.dumps({\n",
    "    'completion': completion_object.choices[0].text\n",
    "}))"
   ]
  },
  {
   "cell_type": "code",
   "execution_count": 25,
   "id": "d5fec813",
   "metadata": {},
   "outputs": [
    {
     "name": "stdout",
     "output_type": "stream",
     "text": [
      "{\"headers\": {\"Content-Type\": \"application/json\"}, \"status\": 200}\n"
     ]
    }
   ],
   "source": [
    "# ResponseInfo GET /text_to_text\n",
    "print(json.dumps({\n",
    "    \"headers\" : {\n",
    "        \"Content-Type\" : \"application/json\"\n",
    "    },\n",
    "    \"status\" : 200\n",
    "}))"
   ]
  },
  {
   "cell_type": "markdown",
   "id": "6bfa2ab0",
   "metadata": {},
   "source": [
    "### Endpoints: /text_to_image\n",
    "\n",
    "#### Input:\n",
    "{ \\\n",
    "    \"prompt\": string, \\\n",
    "    \"cfg_scale\": float, \\\n",
    "    \"init_img_url\": string (URL of the image, default: None), \\\n",
    "    \"prompt_strength\": float (default: 1.0) \\\n",
    "} \n",
    "\n",
    "#### Output:\n",
    "{ \\\n",
    "    \"image_url\": string \\\n",
    "}"
   ]
  },
  {
   "cell_type": "code",
   "execution_count": 32,
   "id": "694c0961",
   "metadata": {},
   "outputs": [
    {
     "data": {
      "text/plain": [
       "['https://replicate.delivery/pbxt/bZoKeUSzu1xdVq2KbNNqH4us7OZGT2UeUC89B6wvAFffO71AB/out-0.png']"
      ]
     },
     "execution_count": 32,
     "metadata": {},
     "output_type": "execute_result"
    }
   ],
   "source": [
    "# GET /text_to_image\n",
    "req = json.loads(REQUEST)\n",
    "body = req['body']\n",
    "\n",
    "output = text2image_version.predict(\n",
    "    prompt=body['prompt'],\n",
    "    guidance_scale=body['cfg_scale'],\n",
    "    init_image=body['init_img_url'] if 'init_img_url' in body else None,\n",
    "    prompt_strength=body['prompt_strength'] if 'prompt_strength' in body else 1.0\n",
    ")\n",
    "\n",
    "print(json.dumps({\n",
    "    'image_url': output[0]\n",
    "}))"
   ]
  },
  {
   "cell_type": "code",
   "execution_count": 34,
   "id": "149be4a7",
   "metadata": {},
   "outputs": [
    {
     "name": "stdout",
     "output_type": "stream",
     "text": [
      "{\"headers\": {\"Content-Type\": \"application/json\"}, \"status\": 200}\n"
     ]
    }
   ],
   "source": [
    "# ResponseInfo GET /text_to_image\n",
    "print(json.dumps({\n",
    "    \"headers\" : {\n",
    "        \"Content-Type\" : \"application/json\"\n",
    "    },\n",
    "    \"status\" : 200\n",
    "}))"
   ]
  },
  {
   "cell_type": "markdown",
   "id": "b30d16fe",
   "metadata": {},
   "source": [
    "### Endpoints: /image_to_image\n",
    "\n",
    "#### Input:\n",
    "{ \\\n",
    "    \"image_url\": string (URL of the image), \\\n",
    "    \"prompt\": string, \\\n",
    "    \"cfg_scale\": float, \\\n",
    "    \"prompt_strength\": float (default: 1.0) \\\n",
    "} \n",
    "\n",
    "#### Output:\n",
    "{ \\\n",
    "    \"image_url\": string \\\n",
    "}"
   ]
  },
  {
   "cell_type": "code",
   "execution_count": 37,
   "id": "83898825",
   "metadata": {},
   "outputs": [
    {
     "ename": "NameError",
     "evalue": "name 'REQUEST' is not defined",
     "output_type": "error",
     "traceback": [
      "\u001b[0;31m---------------------------------------------------------------------------\u001b[0m",
      "\u001b[0;31mNameError\u001b[0m                                 Traceback (most recent call last)",
      "Cell \u001b[0;32mIn[37], line 2\u001b[0m\n\u001b[1;32m      1\u001b[0m \u001b[38;5;66;03m# GET /image_to_image\u001b[39;00m\n\u001b[0;32m----> 2\u001b[0m req \u001b[38;5;241m=\u001b[39m json\u001b[38;5;241m.\u001b[39mloads(\u001b[43mREQUEST\u001b[49m)\n\u001b[1;32m      3\u001b[0m body \u001b[38;5;241m=\u001b[39m req[\u001b[38;5;124m'\u001b[39m\u001b[38;5;124mbody\u001b[39m\u001b[38;5;124m'\u001b[39m]\n\u001b[1;32m      5\u001b[0m output \u001b[38;5;241m=\u001b[39m image2image_version\u001b[38;5;241m.\u001b[39mpredict(\n\u001b[1;32m      6\u001b[0m     image\u001b[38;5;241m=\u001b[39mbody[\u001b[38;5;124m'\u001b[39m\u001b[38;5;124mimage\u001b[39m\u001b[38;5;124m'\u001b[39m],\n\u001b[1;32m      7\u001b[0m     prompt\u001b[38;5;241m=\u001b[39mbody[\u001b[38;5;124m'\u001b[39m\u001b[38;5;124mprompt\u001b[39m\u001b[38;5;124m'\u001b[39m],\n\u001b[1;32m      8\u001b[0m     guidance_scale\u001b[38;5;241m=\u001b[39mbody[\u001b[38;5;124m'\u001b[39m\u001b[38;5;124mcfg_scale\u001b[39m\u001b[38;5;124m'\u001b[39m],\n\u001b[1;32m      9\u001b[0m     prompt_strength\u001b[38;5;241m=\u001b[39mbody[\u001b[38;5;124m'\u001b[39m\u001b[38;5;124mprompt_strength\u001b[39m\u001b[38;5;124m'\u001b[39m] \u001b[38;5;28;01mif\u001b[39;00m \u001b[38;5;124m'\u001b[39m\u001b[38;5;124mprompt_strength\u001b[39m\u001b[38;5;124m'\u001b[39m \u001b[38;5;129;01min\u001b[39;00m body \u001b[38;5;28;01melse\u001b[39;00m \u001b[38;5;28;01mNone\u001b[39;00m\n\u001b[1;32m     10\u001b[0m )\n",
      "\u001b[0;31mNameError\u001b[0m: name 'REQUEST' is not defined"
     ]
    }
   ],
   "source": [
    "# GET /image_to_image\n",
    "req = json.loads(REQUEST)\n",
    "body = req['body']\n",
    "\n",
    "output = image2image_version.predict(\n",
    "    image=body['image_url'],\n",
    "    prompt=body['prompt'],\n",
    "    guidance_scale=body['cfg_scale'],\n",
    "    prompt_strength=body['prompt_strength'] if 'prompt_strength' in body else 1.0\n",
    ")\n",
    "\n",
    "print(json.dumps({\n",
    "    'image_url': output[0]\n",
    "}))"
   ]
  },
  {
   "cell_type": "code",
   "execution_count": 38,
   "id": "22389da8",
   "metadata": {},
   "outputs": [
    {
     "name": "stdout",
     "output_type": "stream",
     "text": [
      "{\"headers\": {\"Content-Type\": \"application/json\"}, \"status\": 200}\n"
     ]
    }
   ],
   "source": [
    "# ResponseInfo GET /image_to_image\n",
    "print(json.dumps({\n",
    "    \"headers\" : {\n",
    "        \"Content-Type\" : \"application/json\"\n",
    "    },\n",
    "    \"status\" : 200\n",
    "}))"
   ]
  },
  {
   "cell_type": "markdown",
   "id": "60029ad9",
   "metadata": {},
   "source": [
    "### Endpoints: /image_to_text\n",
    "\n",
    "#### Input:\n",
    "{ \\\n",
    "    \"image_url\": string (URL of the image), \\\n",
    "} \n",
    "\n",
    "#### Output:\n",
    "{ \\\n",
    "    \"image_url\": string \\\n",
    "}"
   ]
  },
  {
   "cell_type": "code",
   "execution_count": 39,
   "id": "cab7d9e9",
   "metadata": {},
   "outputs": [
    {
     "ename": "NameError",
     "evalue": "name 'REQUEST' is not defined",
     "output_type": "error",
     "traceback": [
      "\u001b[0;31m---------------------------------------------------------------------------\u001b[0m",
      "\u001b[0;31mNameError\u001b[0m                                 Traceback (most recent call last)",
      "Cell \u001b[0;32mIn[39], line 2\u001b[0m\n\u001b[1;32m      1\u001b[0m \u001b[38;5;66;03m# GET /image_to_image\u001b[39;00m\n\u001b[0;32m----> 2\u001b[0m req \u001b[38;5;241m=\u001b[39m json\u001b[38;5;241m.\u001b[39mloads(\u001b[43mREQUEST\u001b[49m)\n\u001b[1;32m      3\u001b[0m body \u001b[38;5;241m=\u001b[39m req[\u001b[38;5;124m'\u001b[39m\u001b[38;5;124mbody\u001b[39m\u001b[38;5;124m'\u001b[39m]\n\u001b[1;32m      5\u001b[0m output \u001b[38;5;241m=\u001b[39m image2text_version\u001b[38;5;241m.\u001b[39mpredict(\n\u001b[1;32m      6\u001b[0m     image\u001b[38;5;241m=\u001b[39mbody[\u001b[38;5;124m'\u001b[39m\u001b[38;5;124mimage_url\u001b[39m\u001b[38;5;124m'\u001b[39m],\n\u001b[1;32m      7\u001b[0m     clip_model_name\u001b[38;5;241m=\u001b[39m\u001b[38;5;124m'\u001b[39m\u001b[38;5;124mViT-H-14/laion2b_s32b_b79k\u001b[39m\u001b[38;5;124m'\u001b[39m,\n\u001b[1;32m      8\u001b[0m     mode\u001b[38;5;241m=\u001b[39m\u001b[38;5;124m'\u001b[39m\u001b[38;5;124mfast\u001b[39m\u001b[38;5;124m'\u001b[39m\n\u001b[1;32m      9\u001b[0m )\n",
      "\u001b[0;31mNameError\u001b[0m: name 'REQUEST' is not defined"
     ]
    }
   ],
   "source": [
    "# GET /image_to_text\n",
    "req = json.loads(REQUEST)\n",
    "body = req['body']\n",
    "\n",
    "output = image2text_version.predict(\n",
    "    image=body['image_url'],\n",
    "    clip_model_name='ViT-H-14/laion2b_s32b_b79k',\n",
    "    mode='fast'\n",
    ")\n",
    "\n",
    "print(json.dumps({\n",
    "    'image_url': output\n",
    "}))"
   ]
  },
  {
   "cell_type": "code",
   "execution_count": 40,
   "id": "64cc6413",
   "metadata": {},
   "outputs": [
    {
     "name": "stdout",
     "output_type": "stream",
     "text": [
      "{\"headers\": {\"Content-Type\": \"application/json\"}, \"status\": 200}\n"
     ]
    }
   ],
   "source": [
    "# ResponseInfo GET /image_to_text\n",
    "print(json.dumps({\n",
    "    \"headers\" : {\n",
    "        \"Content-Type\" : \"application/json\"\n",
    "    },\n",
    "    \"status\" : 200\n",
    "}))"
   ]
  }
 ],
 "metadata": {
  "kernelspec": {
   "display_name": "Python 3 (ipykernel)",
   "language": "python",
   "name": "python3"
  },
  "language_info": {
   "codemirror_mode": {
    "name": "ipython",
    "version": 3
   },
   "file_extension": ".py",
   "mimetype": "text/x-python",
   "name": "python",
   "nbconvert_exporter": "python",
   "pygments_lexer": "ipython3",
   "version": "3.9.5"
  }
 },
 "nbformat": 4,
 "nbformat_minor": 5
}
