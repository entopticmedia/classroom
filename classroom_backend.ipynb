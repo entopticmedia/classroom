{
 "cells": [
  {
   "cell_type": "code",
   "execution_count": null,
   "id": "ffe135cd",
   "metadata": {},
   "outputs": [],
   "source": [
    "import os\n",
    "import urllib.request\n",
    "import json\n",
    "import openai\n",
    "import random\n",
    "from dotenv import load_dotenv\n",
    "load_dotenv()\n",
    "openai.api_key = os.getenv(\"OPENAI_API_TOKEN\")"
   ]
  },
  {
   "cell_type": "code",
   "execution_count": null,
   "id": "c426a86b",
   "metadata": {},
   "outputs": [],
   "source": [
    "import replicate\n",
    "\n",
    "model2version = {\n",
    "    \"text2image\" : \"f178fa7a1ae43a9a9af01b833b9d2ecf97b1bcb0acfd2dc5dd04895e042863f1\",\n",
    "    \"image2image\" : \"15a3689ee13b0d2616e98820eca31d4c3abcd36672df6afce5cb6feb1d66087d\",\n",
    "    \"image2text\" : \"a4a8bafd6089e1716b06057c42b19378250d008b80fe87caa5cd36d40c1eda90\",\n",
    "}\n",
    "\n",
    "text2image = replicate.models.get(\"stability-ai/stable-diffusion\")\n",
    "text2image_version = text2image.versions.list()[0]\n",
    "\n",
    "image2image = replicate.models.get(\"stability-ai/stable-diffusion-img2img\")\n",
    "image2image_version = image2image.versions.list()[0]\n",
    "\n",
    "image2text = replicate.models.get(\"pharmapsychotic/clip-interrogator\")\n",
    "image2text_version = image2text.versions.list()[0]\n",
    "\n",
    "version2model = {}\n",
    "\n",
    "for model, label in [(text2image, 'text2image'), (image2image,'image2image'),(image2text, 'image2text')]:\n",
    "    version2model.update({ver.id: label for ver in model.versions.list()})\n"
   ]
  },
  {
   "cell_type": "markdown",
   "id": "3cd786e2",
   "metadata": {},
   "source": [
    "## Constants"
   ]
  },
  {
   "cell_type": "code",
   "execution_count": null,
   "id": "bbbdf806",
   "metadata": {},
   "outputs": [],
   "source": [
    "IMAGE_SAVE_PATH='/var/www/output.designresearch.works/'\n",
    "ALLOWED_FILE_SIZES= [128, 256, 384, 448, 512, 576, 640, 704, 768, 832, 896, 960, 1024]\n",
    "SEED_RANGE=[0,9999999]"
   ]
  },
  {
   "cell_type": "markdown",
   "id": "64d59f47",
   "metadata": {},
   "source": [
    "### Endpoints: /heartbeat\n",
    "\n",
    "#### Input:\n",
    "None\n",
    "\n",
    "#### Output:\n",
    "{ \\\n",
    "    \"status\": string \\\n",
    "}"
   ]
  },
  {
   "cell_type": "code",
   "execution_count": null,
   "id": "05a38404",
   "metadata": {},
   "outputs": [],
   "source": [
    "# GET /heartbeat\n",
    "print(json.dumps({'status': 'alive'}))"
   ]
  },
  {
   "cell_type": "code",
   "execution_count": null,
   "id": "87d7ea9b",
   "metadata": {},
   "outputs": [],
   "source": [
    "# ResponseInfo GET /heartbeat\n",
    "print(json.dumps({\n",
    "    \"headers\" : {\n",
    "        \"Content-Type\" : \"application/json\"\n",
    "    },\n",
    "    \"status\" : 200\n",
    "}))"
   ]
  },
  {
   "cell_type": "markdown",
   "id": "71dc2090",
   "metadata": {},
   "source": [
    "### Endpoints: /text_to_text\n",
    "\n",
    "#### Input:\n",
    "{ \\\n",
    "    \"prompt\": string, \\\n",
    "    \"max_tokens\": int (default: 100), \\\n",
    "    \"temperature\": float (defaut: 0.0) \\\n",
    "} \n",
    "\n",
    "#### Output:\n",
    "{ \\\n",
    "    \"completion\": string \\\n",
    "}"
   ]
  },
  {
   "cell_type": "code",
   "execution_count": null,
   "id": "7297733d",
   "metadata": {},
   "outputs": [],
   "source": [
    "# POST /text_to_text\n",
    "req = json.loads(REQUEST)\n",
    "body = req['body']\n",
    "\n",
    "completion_object = openai.Completion.create(\n",
    "  model=\"text-davinci-003\",\n",
    "  prompt=body['prompt'],\n",
    "  max_tokens=body['max_tokens'] if 'max_tokens' in body else 100,\n",
    "  temperature=body['temperature'] if 'temperature' in body else 0\n",
    ")\n",
    "\n",
    "print(json.dumps({\n",
    "    'completion': completion_object.choices[0].text\n",
    "}))"
   ]
  },
  {
   "cell_type": "code",
   "execution_count": null,
   "id": "d5fec813",
   "metadata": {},
   "outputs": [],
   "source": [
    "# ResponseInfo POST /text_to_text\n",
    "print(json.dumps({\n",
    "    \"headers\" : {\n",
    "        \"Content-Type\" : \"application/json\"\n",
    "    },\n",
    "    \"status\" : 200\n",
    "}))"
   ]
  },
  {
   "cell_type": "markdown",
   "id": "6bfa2ab0",
   "metadata": {},
   "source": [
    "### Endpoints: /text_to_image\n",
    "\n",
    "#### Input:\n",
    "{ \\\n",
    "    \"prompt\": string, \\\n",
    "    \"cfg_scale\": float, \\\n",
    "    \"init_img_url\": string (URL of the image, default: None), \\\n",
    "    \"prompt_strength\": float (default: 1.0), \\\n",
    "    \"num_outputs\": int (default: 1), \\\n",
    "    \"width\": int (default: 512), \\\n",
    "    \"height\": int (default: 512), \\\n",
    "    \"num_inference_steps\": int (default: 1), \\\n",
    "    \"seed\": int (default random) \\,\n",
    "    \"negative_prompt\": str (default \"\")\n",
    "} \n",
    "\n",
    "#### Output:\n",
    "{ \\\n",
    "    \"image_url\": string, \\\n",
    "    \"seed\": int \\\n",
    "}"
   ]
  },
  {
   "cell_type": "code",
   "execution_count": null,
   "id": "694c0961",
   "metadata": {},
   "outputs": [],
   "source": [
    "# POST /text_to_image\n",
    "req = json.loads(REQUEST)\n",
    "body = req['body']\n",
    "\n",
    "if \"width\" not in body or body[\"width\"] not in ALLOWED_FILE_SIZES:\n",
    "    body[\"width\"] = 512\n",
    "\n",
    "if \"height\" not in body or body[\"height\"] not in ALLOWED_FILE_SIZES:\n",
    "    body[\"height\"] = 512\n",
    "    \n",
    "if body[\"height\"] * body[\"height\"] > 1024*768:\n",
    "    body[\"height\"] = 512\n",
    "    body[\"width\"] = 512\n",
    "    \n",
    "seed = body[\"seed\"] if \"seed\" in body else random.randint(*SEED_RANGE)\n",
    "\n",
    "output = text2image_version.predict(\n",
    "    prompt=body['prompt'],\n",
    "    guidance_scale=body['cfg_scale'],\n",
    "    init_image=body['init_img_url'] if 'init_img_url' in body else None,\n",
    "    prompt_strength=body['prompt_strength'] if 'prompt_strength' in body else 1.0,\n",
    "    num_outputs=int(body['num_outputs']) if 'num_outputs' in body and body['num_outputs'] > 0 else 1,\n",
    "    height=body[\"height\"],\n",
    "    width=body[\"width\"],\n",
    "    num_inference_steps=body[\"num_inference_steps\"] if \"num_inference_steps\" in body else 1,\n",
    "    seed=seed,\n",
    "    negative_prompt=body[\"negative_prompt\"] if \"negative_prompt\" in body else \"\"\n",
    ")\n",
    "\n",
    "# save images locally\n",
    "for url in output:\n",
    "    urllib.request.urlretrieve(url, IMAGE_SAVE_PATH + \"_\".join(url.split('/')[-2:]))\n",
    "\n",
    "print(json.dumps({\n",
    "    'image_url': output,\n",
    "    'seed': seed\n",
    "}))"
   ]
  },
  {
   "cell_type": "code",
   "execution_count": null,
   "id": "149be4a7",
   "metadata": {},
   "outputs": [],
   "source": [
    "# ResponseInfo POST /text_to_image\n",
    "print(json.dumps({\n",
    "    \"headers\" : {\n",
    "        \"Content-Type\" : \"application/json\"\n",
    "    },\n",
    "    \"status\" : 200\n",
    "}))"
   ]
  },
  {
   "cell_type": "markdown",
   "id": "b30d16fe",
   "metadata": {},
   "source": [
    "### Endpoints: /image_to_image\n",
    "\n",
    "#### Input:\n",
    "{ \\\n",
    "    \"image_url\": string (URL of the image), \\\n",
    "    \"prompt\": string, \\\n",
    "    \"cfg_scale\": float, \\\n",
    "    \"prompt_strength\": float (default: 1.0), \\\n",
    "    \"num_outputs\": int (default: 1), \\\n",
    "    \"width\": int (default: 512), \\\n",
    "    \"height\": int (default: 512), \\\n",
    "    \"num_inference_steps\": int (default: 1), \\\n",
    "    \"seed\": int (default: random) \\\n",
    "} \n",
    "\n",
    "#### Output:\n",
    "{ \\\n",
    "    \"image_url\": string, \\\n",
    "    \"seed\": int \\\n",
    "}"
   ]
  },
  {
   "cell_type": "code",
   "execution_count": null,
   "id": "83898825",
   "metadata": {},
   "outputs": [],
   "source": [
    "# POST /image_to_image\n",
    "req = json.loads(REQUEST)\n",
    "body = req['body']\n",
    "\n",
    "if \"width\" not in body or body[\"width\"] not in ALLOWED_FILE_SIZES:\n",
    "    body[\"width\"] = 512\n",
    "\n",
    "if \"height\" not in body or body[\"height\"] not in ALLOWED_FILE_SIZES:\n",
    "    body[\"height\"] = 512\n",
    "    \n",
    "if body[\"height\"] * body[\"height\"] > 1024*768:\n",
    "    body[\"height\"] = 512\n",
    "    body[\"width\"] = 512\n",
    "    \n",
    "seed = body[\"seed\"] if \"seed\" in body else random.randint(*SEED_RANGE)\n",
    "\n",
    "output = image2image_version.predict(\n",
    "    image=body['image_url'],\n",
    "    prompt=body['prompt'],\n",
    "    guidance_scale=body['cfg_scale'],\n",
    "    prompt_strength=body['prompt_strength'] if 'prompt_strength' in body else 1.0,\n",
    "    num_outputs=int(body['num_outputs']) if 'num_outputs' in body and body['num_outputs'] > 0 else 1,\n",
    "    height=body[\"height\"],\n",
    "    width=body[\"width\"],\n",
    "    num_inference_steps=body[\"num_inference_steps\"] if \"num_inference_steps\" in body else 1,\n",
    "    seed=seed\n",
    ")\n",
    "\n",
    "# save images locally\n",
    "for url in output:\n",
    "    urllib.request.urlretrieve(url, IMAGE_SAVE_PATH + \"_\".join(url.split('/')[-2:]))\n",
    "\n",
    "print(json.dumps({\n",
    "    'image_url': output,\n",
    "    'seed': seed\n",
    "}))"
   ]
  },
  {
   "cell_type": "code",
   "execution_count": null,
   "id": "22389da8",
   "metadata": {},
   "outputs": [],
   "source": [
    "# ResponseInfo POST /image_to_image\n",
    "print(json.dumps({\n",
    "    \"headers\" : {\n",
    "        \"Content-Type\" : \"application/json\"\n",
    "    },\n",
    "    \"status\" : 200\n",
    "}))"
   ]
  },
  {
   "cell_type": "markdown",
   "id": "60029ad9",
   "metadata": {},
   "source": [
    "### Endpoints: /image_to_text\n",
    "\n",
    "#### Input:\n",
    "{ \\\n",
    "    \"image_url\": string (URL of the image), \\\n",
    "} \n",
    "\n",
    "#### Output:\n",
    "{ \\\n",
    "    \"image_url\": string \\\n",
    "}"
   ]
  },
  {
   "cell_type": "code",
   "execution_count": null,
   "id": "cab7d9e9",
   "metadata": {},
   "outputs": [],
   "source": [
    "# POST /image_to_text\n",
    "req = json.loads(REQUEST)\n",
    "body = req['body']\n",
    "\n",
    "output = image2text_version.predict(\n",
    "    image=body['image_url'],\n",
    "    clip_model_name='ViT-H-14/laion2b_s32b_b79k',\n",
    "    mode='fast'\n",
    ")\n",
    "\n",
    "print(json.dumps({\n",
    "    'image_url': output\n",
    "}))"
   ]
  },
  {
   "cell_type": "code",
   "execution_count": null,
   "id": "64cc6413",
   "metadata": {},
   "outputs": [],
   "source": [
    "# ResponseInfo POST /image_to_text\n",
    "print(json.dumps({\n",
    "    \"headers\" : {\n",
    "        \"Content-Type\" : \"application/json\"\n",
    "    },\n",
    "    \"status\" : 200\n",
    "}))"
   ]
  },
  {
   "cell_type": "markdown",
   "id": "a7552d26",
   "metadata": {},
   "source": [
    "### Endpoints: /predictions\n",
    "\n",
    "#### Input:\n",
    "None\n",
    "\n",
    "#### Output:\n",
    "{ \\\n",
    "  'completed_at': string[time], \\\n",
    "  'created_at': string[time], \\\n",
    "  'error': None, \\\n",
    "  'id': string, \\\n",
    "  'input': dict[string, Any] \\\n",
    "  'metrics': {'predict_time': int }, \\\n",
    "  'output': list[string[url]], \\\n",
    "  'started_at': string[time], \\\n",
    "  'source': string[web|api], \\\n",
    "  'status': string, \\\n",
    "  'urls': { \\\n",
    "    'get': string[url], \\\n",
    "    'cancel': string[url] \\\n",
    "          }, \\\n",
    "  'version': string, \\\n",
    "  'webhook_completed': None, \\\n",
    "  'model': string[text2image|image2image|image2text] \\\n",
    "  }"
   ]
  },
  {
   "cell_type": "code",
   "execution_count": null,
   "id": "a17fdd20",
   "metadata": {},
   "outputs": [],
   "source": [
    "# GET /predictions\n",
    "res = replicate.predictions._client._request(\"GET\", f\"/v1/predictions\").json()\n",
    "predictions = res[\"results\"]\n",
    "while res['next'] is not None:\n",
    "    next_url = res[\"next\"][len('https://api.replicate.com'):]\n",
    "    res = replicate.predictions._client._request(\"GET\", next_url).json()\n",
    "    predictions += res[\"results\"]\n",
    "\n",
    "valid_predictions = []\n",
    "for pred in predictions:\n",
    "    if pred['version'] in version2model:\n",
    "        pred['model'] = version2model[pred['version']]\n",
    "        valid_predictions.append(pred)\n",
    "\n",
    "print(json.dumps(valid_predictions))\n",
    "    "
   ]
  },
  {
   "cell_type": "code",
   "execution_count": null,
   "id": "fb4baab1",
   "metadata": {},
   "outputs": [],
   "source": [
    "# ResponseInfo GET /predictions\n",
    "print(json.dumps({\n",
    "    \"headers\" : {\n",
    "        \"Content-Type\" : \"application/json\"\n",
    "    },\n",
    "    \"status\" : 200\n",
    "}))"
   ]
  },
  {
   "cell_type": "code",
   "execution_count": null,
   "id": "5923c291",
   "metadata": {},
   "outputs": [],
   "source": []
  }
 ],
 "metadata": {
  "kernelspec": {
   "display_name": "Python 3 (ipykernel)",
   "language": "python",
   "name": "python3"
  },
  "language_info": {
   "codemirror_mode": {
    "name": "ipython",
    "version": 3
   },
   "file_extension": ".py",
   "mimetype": "text/x-python",
   "name": "python",
   "nbconvert_exporter": "python",
   "pygments_lexer": "ipython3",
   "version": "3.10.6"
  }
 },
 "nbformat": 4,
 "nbformat_minor": 5
}
